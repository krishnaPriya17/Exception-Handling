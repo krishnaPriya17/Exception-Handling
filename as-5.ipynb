{
 "cells": [
  {
   "cell_type": "code",
   "execution_count": 1,
   "metadata": {},
   "outputs": [
    {
     "name": "stdout",
     "output_type": "stream",
     "text": [
      "enter num0\n",
      "Not Possible to divide with 0\n"
     ]
    }
   ],
   "source": [
    "#q-1\n",
    "\n",
    "try:\n",
    "    n=int(input(\"enter num\"))\n",
    "    a =5/n\n",
    "    print (a)\n",
    "except:\n",
    "    print(\"Not Possible to divide with %d\" %n)\n",
    "else:\n",
    "    print(\" Result is %f\"%(a))"
   ]
  },
  {
   "cell_type": "code",
   "execution_count": 2,
   "metadata": {},
   "outputs": [
    {
     "name": "stdout",
     "output_type": "stream",
     "text": [
      "enter num3\n",
      "1.6666666666666667\n",
      " Result is 1.666667\n"
     ]
    }
   ],
   "source": [
    "#q-1\n",
    "\n",
    "try:\n",
    "    n=int(input(\"enter num\"))\n",
    "    a =5/n\n",
    "    print (a)\n",
    "except:\n",
    "    print(\"Not Possible to divide with %d\" %n)\n",
    "else:\n",
    "    print(\" Result is %f\"%(a))"
   ]
  },
  {
   "cell_type": "code",
   "execution_count": 3,
   "metadata": {},
   "outputs": [
    {
     "data": {
      "text/plain": [
       "['AmericansplayCricket',\n",
       " 'AmericansplayBasketball',\n",
       " 'AmericanswatchCricket',\n",
       " 'AmericanswatchBasketball',\n",
       " 'IndiansplayCricket',\n",
       " 'IndiansplayBasketball',\n",
       " 'IndianswatchCricket',\n",
       " 'IndianswatchBasketball']"
      ]
     },
     "execution_count": 3,
     "metadata": {},
     "output_type": "execute_result"
    }
   ],
   "source": [
    "sub =['Americans','Indians']\n",
    "verb=['play','watch']\n",
    "obj=['Cricket','Basketball']\n",
    "\n",
    "[i+j+k for i in sub for j in verb for k in obj]"
   ]
  },
  {
   "cell_type": "code",
   "execution_count": 4,
   "metadata": {},
   "outputs": [
    {
     "name": "stdout",
     "output_type": "stream",
     "text": [
      "Americans play Cricket\n",
      "Americans play Basketball\n",
      "Americans watch Cricket\n",
      "Americans watch Basketball\n",
      "Indians play Cricket\n",
      "Indians play Basketball\n",
      "Indians watch Cricket\n",
      "Indians watch Basketball\n"
     ]
    }
   ],
   "source": [
    "# Q-2\n",
    "\n",
    "sub =['Americans','Indians']\n",
    "verb=['play','watch']\n",
    "obj=['Cricket','Basketball']\n",
    "for i in (sub):\n",
    "    for j  in (verb):\n",
    "        for k in (obj):\n",
    "            print(i+\" \"+j+\" \"+k)"
   ]
  },
  {
   "cell_type": "code",
   "execution_count": null,
   "metadata": {},
   "outputs": [],
   "source": []
  }
 ],
 "metadata": {
  "kernelspec": {
   "display_name": "Python 3",
   "language": "python",
   "name": "python3"
  },
  "language_info": {
   "codemirror_mode": {
    "name": "ipython",
    "version": 3
   },
   "file_extension": ".py",
   "mimetype": "text/x-python",
   "name": "python",
   "nbconvert_exporter": "python",
   "pygments_lexer": "ipython3",
   "version": "3.6.5"
  }
 },
 "nbformat": 4,
 "nbformat_minor": 2
}
